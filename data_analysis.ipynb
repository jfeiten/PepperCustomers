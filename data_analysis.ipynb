{
 "cells": [
  {
   "cell_type": "markdown",
   "id": "julian-standing",
   "metadata": {},
   "source": [
    "# Pepper customers data analysis"
   ]
  },
  {
   "cell_type": "markdown",
   "id": "functional-barrel",
   "metadata": {},
   "source": [
    "## Logistic Regression"
   ]
  },
  {
   "cell_type": "code",
   "execution_count": 1,
   "id": "visible-robin",
   "metadata": {},
   "outputs": [],
   "source": [
    "# Load modules\n",
    "import pandas as pd\n",
    "from sklearn.linear_model import LogisticRegression\n",
    "from sklearn.metrics import confusion_matrix, classification_report\n",
    "from sklearn.decomposition import PCA\n",
    "\n"
   ]
  },
  {
   "cell_type": "code",
   "execution_count": 2,
   "id": "lyric-glance",
   "metadata": {},
   "outputs": [
    {
     "data": {
      "text/html": [
       "<div>\n",
       "<style scoped>\n",
       "    .dataframe tbody tr th:only-of-type {\n",
       "        vertical-align: middle;\n",
       "    }\n",
       "\n",
       "    .dataframe tbody tr th {\n",
       "        vertical-align: top;\n",
       "    }\n",
       "\n",
       "    .dataframe thead th {\n",
       "        text-align: right;\n",
       "    }\n",
       "</style>\n",
       "<table border=\"1\" class=\"dataframe\">\n",
       "  <thead>\n",
       "    <tr style=\"text-align: right;\">\n",
       "      <th></th>\n",
       "      <th>Age</th>\n",
       "      <th>Education</th>\n",
       "      <th>Income</th>\n",
       "      <th>Profile</th>\n",
       "      <th>p1</th>\n",
       "      <th>p2</th>\n",
       "      <th>p3</th>\n",
       "      <th>p4</th>\n",
       "      <th>p5</th>\n",
       "      <th>p6</th>\n",
       "      <th>Sex_Woman</th>\n",
       "      <th>Consumption_Yes</th>\n",
       "    </tr>\n",
       "  </thead>\n",
       "  <tbody>\n",
       "    <tr>\n",
       "      <th>0</th>\n",
       "      <td>2</td>\n",
       "      <td>6</td>\n",
       "      <td>3</td>\n",
       "      <td>19</td>\n",
       "      <td>3</td>\n",
       "      <td>3</td>\n",
       "      <td>2</td>\n",
       "      <td>7</td>\n",
       "      <td>1</td>\n",
       "      <td>3</td>\n",
       "      <td>0</td>\n",
       "      <td>1</td>\n",
       "    </tr>\n",
       "    <tr>\n",
       "      <th>1</th>\n",
       "      <td>2</td>\n",
       "      <td>2</td>\n",
       "      <td>2</td>\n",
       "      <td>39</td>\n",
       "      <td>7</td>\n",
       "      <td>5</td>\n",
       "      <td>7</td>\n",
       "      <td>6</td>\n",
       "      <td>7</td>\n",
       "      <td>7</td>\n",
       "      <td>0</td>\n",
       "      <td>0</td>\n",
       "    </tr>\n",
       "    <tr>\n",
       "      <th>2</th>\n",
       "      <td>2</td>\n",
       "      <td>5</td>\n",
       "      <td>2</td>\n",
       "      <td>23</td>\n",
       "      <td>4</td>\n",
       "      <td>1</td>\n",
       "      <td>4</td>\n",
       "      <td>6</td>\n",
       "      <td>4</td>\n",
       "      <td>4</td>\n",
       "      <td>0</td>\n",
       "      <td>1</td>\n",
       "    </tr>\n",
       "    <tr>\n",
       "      <th>3</th>\n",
       "      <td>3</td>\n",
       "      <td>7</td>\n",
       "      <td>5</td>\n",
       "      <td>16</td>\n",
       "      <td>4</td>\n",
       "      <td>2</td>\n",
       "      <td>4</td>\n",
       "      <td>2</td>\n",
       "      <td>1</td>\n",
       "      <td>3</td>\n",
       "      <td>0</td>\n",
       "      <td>1</td>\n",
       "    </tr>\n",
       "    <tr>\n",
       "      <th>4</th>\n",
       "      <td>3</td>\n",
       "      <td>6</td>\n",
       "      <td>3</td>\n",
       "      <td>20</td>\n",
       "      <td>3</td>\n",
       "      <td>3</td>\n",
       "      <td>4</td>\n",
       "      <td>5</td>\n",
       "      <td>2</td>\n",
       "      <td>3</td>\n",
       "      <td>0</td>\n",
       "      <td>0</td>\n",
       "    </tr>\n",
       "    <tr>\n",
       "      <th>...</th>\n",
       "      <td>...</td>\n",
       "      <td>...</td>\n",
       "      <td>...</td>\n",
       "      <td>...</td>\n",
       "      <td>...</td>\n",
       "      <td>...</td>\n",
       "      <td>...</td>\n",
       "      <td>...</td>\n",
       "      <td>...</td>\n",
       "      <td>...</td>\n",
       "      <td>...</td>\n",
       "      <td>...</td>\n",
       "    </tr>\n",
       "    <tr>\n",
       "      <th>131</th>\n",
       "      <td>2</td>\n",
       "      <td>6</td>\n",
       "      <td>5</td>\n",
       "      <td>24</td>\n",
       "      <td>7</td>\n",
       "      <td>1</td>\n",
       "      <td>7</td>\n",
       "      <td>1</td>\n",
       "      <td>1</td>\n",
       "      <td>7</td>\n",
       "      <td>1</td>\n",
       "      <td>1</td>\n",
       "    </tr>\n",
       "    <tr>\n",
       "      <th>132</th>\n",
       "      <td>2</td>\n",
       "      <td>6</td>\n",
       "      <td>1</td>\n",
       "      <td>13</td>\n",
       "      <td>2</td>\n",
       "      <td>1</td>\n",
       "      <td>3</td>\n",
       "      <td>5</td>\n",
       "      <td>1</td>\n",
       "      <td>1</td>\n",
       "      <td>1</td>\n",
       "      <td>0</td>\n",
       "    </tr>\n",
       "    <tr>\n",
       "      <th>133</th>\n",
       "      <td>3</td>\n",
       "      <td>6</td>\n",
       "      <td>3</td>\n",
       "      <td>21</td>\n",
       "      <td>4</td>\n",
       "      <td>2</td>\n",
       "      <td>4</td>\n",
       "      <td>6</td>\n",
       "      <td>3</td>\n",
       "      <td>2</td>\n",
       "      <td>1</td>\n",
       "      <td>1</td>\n",
       "    </tr>\n",
       "    <tr>\n",
       "      <th>134</th>\n",
       "      <td>2</td>\n",
       "      <td>6</td>\n",
       "      <td>2</td>\n",
       "      <td>13</td>\n",
       "      <td>1</td>\n",
       "      <td>2</td>\n",
       "      <td>1</td>\n",
       "      <td>4</td>\n",
       "      <td>1</td>\n",
       "      <td>4</td>\n",
       "      <td>1</td>\n",
       "      <td>0</td>\n",
       "    </tr>\n",
       "    <tr>\n",
       "      <th>135</th>\n",
       "      <td>2</td>\n",
       "      <td>6</td>\n",
       "      <td>2</td>\n",
       "      <td>13</td>\n",
       "      <td>1</td>\n",
       "      <td>2</td>\n",
       "      <td>1</td>\n",
       "      <td>4</td>\n",
       "      <td>1</td>\n",
       "      <td>4</td>\n",
       "      <td>1</td>\n",
       "      <td>0</td>\n",
       "    </tr>\n",
       "  </tbody>\n",
       "</table>\n",
       "<p>136 rows × 12 columns</p>\n",
       "</div>"
      ],
      "text/plain": [
       "     Age  Education  Income  Profile  p1  p2  p3  p4  p5  p6  Sex_Woman  \\\n",
       "0      2          6       3       19   3   3   2   7   1   3          0   \n",
       "1      2          2       2       39   7   5   7   6   7   7          0   \n",
       "2      2          5       2       23   4   1   4   6   4   4          0   \n",
       "3      3          7       5       16   4   2   4   2   1   3          0   \n",
       "4      3          6       3       20   3   3   4   5   2   3          0   \n",
       "..   ...        ...     ...      ...  ..  ..  ..  ..  ..  ..        ...   \n",
       "131    2          6       5       24   7   1   7   1   1   7          1   \n",
       "132    2          6       1       13   2   1   3   5   1   1          1   \n",
       "133    3          6       3       21   4   2   4   6   3   2          1   \n",
       "134    2          6       2       13   1   2   1   4   1   4          1   \n",
       "135    2          6       2       13   1   2   1   4   1   4          1   \n",
       "\n",
       "     Consumption_Yes  \n",
       "0                  1  \n",
       "1                  0  \n",
       "2                  1  \n",
       "3                  1  \n",
       "4                  0  \n",
       "..               ...  \n",
       "131                1  \n",
       "132                0  \n",
       "133                1  \n",
       "134                0  \n",
       "135                0  \n",
       "\n",
       "[136 rows x 12 columns]"
      ]
     },
     "execution_count": 2,
     "metadata": {},
     "output_type": "execute_result"
    }
   ],
   "source": [
    "# Load dataset\n",
    "df = pd.read_pickle(\"data/df.pkl\")\n",
    "\n",
    "df2 = pd.get_dummies(df, drop_first=True)\n",
    "df2"
   ]
  },
  {
   "cell_type": "code",
   "execution_count": 3,
   "id": "atomic-export",
   "metadata": {},
   "outputs": [
    {
     "data": {
      "text/plain": [
       "LogisticRegression()"
      ]
     },
     "execution_count": 3,
     "metadata": {},
     "output_type": "execute_result"
    }
   ],
   "source": [
    "X = df2[['Age', 'Education', 'Income', 'Profile', 'Sex_Woman']]\n",
    "y = df2['Consumption_Yes']\n",
    "\n",
    "# all parameters not specified are set to their defaults\n",
    "model = LogisticRegression()\n",
    "\n",
    "# Fit model\n",
    "model.fit(X, y)"
   ]
  },
  {
   "cell_type": "code",
   "execution_count": 7,
   "id": "funny-olympus",
   "metadata": {},
   "outputs": [
    {
     "data": {
      "text/plain": [
       "array([[ 0.35461439,  0.05430235,  0.23213416,  0.04032072, -0.27594713]])"
      ]
     },
     "execution_count": 7,
     "metadata": {},
     "output_type": "execute_result"
    }
   ],
   "source": [
    "model.coef_"
   ]
  },
  {
   "cell_type": "code",
   "execution_count": 8,
   "id": "eight-colon",
   "metadata": {},
   "outputs": [
    {
     "data": {
      "text/plain": [
       "array([0, 1], dtype=uint8)"
      ]
     },
     "execution_count": 8,
     "metadata": {},
     "output_type": "execute_result"
    }
   ],
   "source": [
    "model.classes_"
   ]
  },
  {
   "cell_type": "code",
   "execution_count": 9,
   "id": "engaged-cedar",
   "metadata": {},
   "outputs": [
    {
     "data": {
      "text/plain": [
       "0.6470588235294118"
      ]
     },
     "execution_count": 9,
     "metadata": {},
     "output_type": "execute_result"
    }
   ],
   "source": [
    "model.score(X, y)"
   ]
  },
  {
   "cell_type": "code",
   "execution_count": 10,
   "id": "embedded-external",
   "metadata": {},
   "outputs": [
    {
     "data": {
      "text/plain": [
       "array([[30, 31],\n",
       "       [17, 58]], dtype=int64)"
      ]
     },
     "execution_count": 10,
     "metadata": {},
     "output_type": "execute_result"
    }
   ],
   "source": [
    "confusion_matrix(y, model.predict(X))"
   ]
  },
  {
   "cell_type": "code",
   "execution_count": 6,
   "id": "extensive-measurement",
   "metadata": {},
   "outputs": [
    {
     "name": "stdout",
     "output_type": "stream",
     "text": [
      "              precision    recall  f1-score   support\n",
      "\n",
      "           0       0.64      0.49      0.56        61\n",
      "           1       0.65      0.77      0.71        75\n",
      "\n",
      "    accuracy                           0.65       136\n",
      "   macro avg       0.64      0.63      0.63       136\n",
      "weighted avg       0.65      0.65      0.64       136\n",
      "\n"
     ]
    }
   ],
   "source": [
    "print(classification_report(y, model.predict(X)))"
   ]
  },
  {
   "cell_type": "markdown",
   "id": "informal-affairs",
   "metadata": {},
   "source": [
    "## Dimensionality reduction"
   ]
  },
  {
   "cell_type": "code",
   "execution_count": 20,
   "id": "possible-european",
   "metadata": {},
   "outputs": [],
   "source": [
    "x_pvars = df2[['p1', 'p2', 'p3', 'p4', 'p5', 'p6']]"
   ]
  },
  {
   "cell_type": "code",
   "execution_count": 21,
   "id": "dying-dynamics",
   "metadata": {},
   "outputs": [],
   "source": [
    "from sklearn.preprocessing import StandardScaler\n",
    "\n",
    "# define standard scaler\n",
    "scaler = StandardScaler()\n",
    "\n",
    "# transform data\n",
    "scaled = scaler.fit_transform(x_pvars)"
   ]
  },
  {
   "cell_type": "code",
   "execution_count": 22,
   "id": "wired-cedar",
   "metadata": {},
   "outputs": [
    {
     "data": {
      "text/html": [
       "<div>\n",
       "<style scoped>\n",
       "    .dataframe tbody tr th:only-of-type {\n",
       "        vertical-align: middle;\n",
       "    }\n",
       "\n",
       "    .dataframe tbody tr th {\n",
       "        vertical-align: top;\n",
       "    }\n",
       "\n",
       "    .dataframe thead th {\n",
       "        text-align: right;\n",
       "    }\n",
       "</style>\n",
       "<table border=\"1\" class=\"dataframe\">\n",
       "  <thead>\n",
       "    <tr style=\"text-align: right;\">\n",
       "      <th></th>\n",
       "      <th>0</th>\n",
       "      <th>1</th>\n",
       "      <th>2</th>\n",
       "      <th>3</th>\n",
       "      <th>4</th>\n",
       "      <th>5</th>\n",
       "    </tr>\n",
       "  </thead>\n",
       "  <tbody>\n",
       "    <tr>\n",
       "      <th>0</th>\n",
       "      <td>-1.709909</td>\n",
       "      <td>-0.061146</td>\n",
       "      <td>-1.080601</td>\n",
       "      <td>-0.507283</td>\n",
       "      <td>0.935269</td>\n",
       "      <td>0.292561</td>\n",
       "    </tr>\n",
       "    <tr>\n",
       "      <th>1</th>\n",
       "      <td>3.478498</td>\n",
       "      <td>-1.309015</td>\n",
       "      <td>-1.398333</td>\n",
       "      <td>-0.147329</td>\n",
       "      <td>0.357692</td>\n",
       "      <td>0.206998</td>\n",
       "    </tr>\n",
       "    <tr>\n",
       "      <th>2</th>\n",
       "      <td>-0.276491</td>\n",
       "      <td>-1.085894</td>\n",
       "      <td>0.240273</td>\n",
       "      <td>-0.368966</td>\n",
       "      <td>-0.268023</td>\n",
       "      <td>-0.044048</td>\n",
       "    </tr>\n",
       "    <tr>\n",
       "      <th>3</th>\n",
       "      <td>-0.351007</td>\n",
       "      <td>1.703219</td>\n",
       "      <td>0.965668</td>\n",
       "      <td>-0.033443</td>\n",
       "      <td>0.114743</td>\n",
       "      <td>0.176527</td>\n",
       "    </tr>\n",
       "    <tr>\n",
       "      <th>4</th>\n",
       "      <td>-0.660035</td>\n",
       "      <td>0.492137</td>\n",
       "      <td>-0.531331</td>\n",
       "      <td>0.107535</td>\n",
       "      <td>0.323250</td>\n",
       "      <td>-0.205136</td>\n",
       "    </tr>\n",
       "  </tbody>\n",
       "</table>\n",
       "</div>"
      ],
      "text/plain": [
       "          0         1         2         3         4         5\n",
       "0 -1.709909 -0.061146 -1.080601 -0.507283  0.935269  0.292561\n",
       "1  3.478498 -1.309015 -1.398333 -0.147329  0.357692  0.206998\n",
       "2 -0.276491 -1.085894  0.240273 -0.368966 -0.268023 -0.044048\n",
       "3 -0.351007  1.703219  0.965668 -0.033443  0.114743  0.176527\n",
       "4 -0.660035  0.492137 -0.531331  0.107535  0.323250 -0.205136"
      ]
     },
     "execution_count": 22,
     "metadata": {},
     "output_type": "execute_result"
    }
   ],
   "source": [
    "pca = PCA()\n",
    "x_pca = pca.fit_transform(scaled)\n",
    "x_pca = pd.DataFrame(x_pca)\n",
    "x_pca.head()"
   ]
  },
  {
   "cell_type": "code",
   "execution_count": 23,
   "id": "possible-melissa",
   "metadata": {},
   "outputs": [
    {
     "data": {
      "text/plain": [
       "array([0.5 , 0.16, 0.13, 0.09, 0.07, 0.04])"
      ]
     },
     "execution_count": 23,
     "metadata": {},
     "output_type": "execute_result"
    }
   ],
   "source": [
    "explained_variance = pca.explained_variance_ratio_\n",
    "explained_variance.round(2)"
   ]
  },
  {
   "cell_type": "code",
   "execution_count": 25,
   "id": "cooperative-estimate",
   "metadata": {},
   "outputs": [
    {
     "data": {
      "text/html": [
       "<div>\n",
       "<style scoped>\n",
       "    .dataframe tbody tr th:only-of-type {\n",
       "        vertical-align: middle;\n",
       "    }\n",
       "\n",
       "    .dataframe tbody tr th {\n",
       "        vertical-align: top;\n",
       "    }\n",
       "\n",
       "    .dataframe thead th {\n",
       "        text-align: right;\n",
       "    }\n",
       "</style>\n",
       "<table border=\"1\" class=\"dataframe\">\n",
       "  <thead>\n",
       "    <tr style=\"text-align: right;\">\n",
       "      <th></th>\n",
       "      <th>PC1</th>\n",
       "      <th>PC2</th>\n",
       "      <th>PC3</th>\n",
       "      <th>PC4</th>\n",
       "      <th>PC5</th>\n",
       "      <th>PC6</th>\n",
       "      <th>target</th>\n",
       "    </tr>\n",
       "  </thead>\n",
       "  <tbody>\n",
       "    <tr>\n",
       "      <th>0</th>\n",
       "      <td>-1.709909</td>\n",
       "      <td>-0.061146</td>\n",
       "      <td>-1.080601</td>\n",
       "      <td>-0.507283</td>\n",
       "      <td>0.935269</td>\n",
       "      <td>0.292561</td>\n",
       "      <td>1</td>\n",
       "    </tr>\n",
       "    <tr>\n",
       "      <th>1</th>\n",
       "      <td>3.478498</td>\n",
       "      <td>-1.309015</td>\n",
       "      <td>-1.398333</td>\n",
       "      <td>-0.147329</td>\n",
       "      <td>0.357692</td>\n",
       "      <td>0.206998</td>\n",
       "      <td>0</td>\n",
       "    </tr>\n",
       "    <tr>\n",
       "      <th>2</th>\n",
       "      <td>-0.276491</td>\n",
       "      <td>-1.085894</td>\n",
       "      <td>0.240273</td>\n",
       "      <td>-0.368966</td>\n",
       "      <td>-0.268023</td>\n",
       "      <td>-0.044048</td>\n",
       "      <td>1</td>\n",
       "    </tr>\n",
       "    <tr>\n",
       "      <th>3</th>\n",
       "      <td>-0.351007</td>\n",
       "      <td>1.703219</td>\n",
       "      <td>0.965668</td>\n",
       "      <td>-0.033443</td>\n",
       "      <td>0.114743</td>\n",
       "      <td>0.176527</td>\n",
       "      <td>1</td>\n",
       "    </tr>\n",
       "    <tr>\n",
       "      <th>4</th>\n",
       "      <td>-0.660035</td>\n",
       "      <td>0.492137</td>\n",
       "      <td>-0.531331</td>\n",
       "      <td>0.107535</td>\n",
       "      <td>0.323250</td>\n",
       "      <td>-0.205136</td>\n",
       "      <td>0</td>\n",
       "    </tr>\n",
       "  </tbody>\n",
       "</table>\n",
       "</div>"
      ],
      "text/plain": [
       "        PC1       PC2       PC3       PC4       PC5       PC6  target\n",
       "0 -1.709909 -0.061146 -1.080601 -0.507283  0.935269  0.292561       1\n",
       "1  3.478498 -1.309015 -1.398333 -0.147329  0.357692  0.206998       0\n",
       "2 -0.276491 -1.085894  0.240273 -0.368966 -0.268023 -0.044048       1\n",
       "3 -0.351007  1.703219  0.965668 -0.033443  0.114743  0.176527       1\n",
       "4 -0.660035  0.492137 -0.531331  0.107535  0.323250 -0.205136       0"
      ]
     },
     "execution_count": 25,
     "metadata": {},
     "output_type": "execute_result"
    }
   ],
   "source": [
    "x_pca['target'] = y\n",
    "x_pca.columns.to_list()\n",
    "x_pca.columns = ['PC1','PC2','PC3','PC4','PC5', 'PC6','target']\n",
    "x_pca.head()"
   ]
  },
  {
   "cell_type": "code",
   "execution_count": 26,
   "id": "electoral-incentive",
   "metadata": {},
   "outputs": [],
   "source": [
    "import matplotlib.pyplot as plt"
   ]
  },
  {
   "cell_type": "code",
   "execution_count": 28,
   "id": "bridal-server",
   "metadata": {},
   "outputs": [
    {
     "data": {
      "image/png": "[encoded data removed]",
      "text/plain": [
       "<Figure size 432x288 with 1 Axes>"
      ]
     },
     "metadata": {
      "needs_background": "light"
     },
     "output_type": "display_data"
    }
   ],
   "source": [
    "fig = plt.figure()\n",
    "ax = fig.add_subplot(1,1,1) \n",
    "ax.set_xlabel('Principal Component 1') \n",
    "ax.set_ylabel('Principal Component 2') \n",
    "ax.set_title('2 component PCA') \n",
    "\n",
    "targets = [0, 1]\n",
    "colors = ['orange', 'blue']\n",
    "\n",
    "for target, color in zip(targets,colors):\n",
    " indicesToKeep = x_pca['target'] == target\n",
    " ax.scatter(x_pca.loc[indicesToKeep, 'PC1'], \n",
    "            x_pca.loc[indicesToKeep, 'PC2'],\n",
    "            c = color, \n",
    "            s = 50)\n",
    "    \n",
    "ax.legend(targets)\n",
    "ax.grid()\n"
   ]
  },
  {
   "cell_type": "code",
   "execution_count": 30,
   "id": "centered-philosophy",
   "metadata": {},
   "outputs": [
    {
     "data": {
      "text/plain": [
       "<matplotlib.collections.PathCollection at 0x2875bb60580>"
      ]
     },
     "execution_count": 30,
     "metadata": {},
     "output_type": "execute_result"
    },
    {
     "data": {
      "image/png": "[encoded data removed]",
      "text/plain": [
       "<Figure size 432x288 with 1 Axes>"
      ]
     },
     "metadata": {
      "needs_background": "light"
     },
     "output_type": "display_data"
    }
   ],
   "source": [
    "fig = plt.figure()\n",
    "ax = fig.add_subplot(1,1,1) \n",
    "ax.set_xlabel('p1') \n",
    "ax.set_ylabel('p2') \n",
    "ax.set_title('Testing scatter plot') \n",
    "\n",
    "ax.scatter(x_pvars['p1'], x_pvars['p2'])"
   ]
  }
 ],
 "metadata": {
  "kernelspec": {
   "display_name": "data_analysis",
   "language": "python",
   "name": "data_analysis"
  },
  "language_info": {
   "codemirror_mode": {
    "name": "ipython",
    "version": 3
   },
   "file_extension": ".py",
   "mimetype": "text/x-python",
   "name": "python",
   "nbconvert_exporter": "python",
   "pygments_lexer": "ipython3",
   "version": "3.9.2"
  }
 },
 "nbformat": 4,
 "nbformat_minor": 5
}
